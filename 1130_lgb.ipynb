{
 "cells": [
  {
   "cell_type": "code",
   "execution_count": 1,
   "metadata": {
    "collapsed": true
   },
   "outputs": [],
   "source": [
    "#coding:utf-8\n",
    "import pandas as pd\n",
    "from sklearn.metrics import f1_score,auc\n",
    "import matplotlib.pyplot as plt\n",
    "from sklearn.model_selection import train_test_split\n",
    "import numpy as np\n",
    "from sklearn.ensemble import RandomForestClassifier\n",
    "from sklearn.ensemble import RandomForestRegressor\n",
    "import lightgbm as lgb\n",
    "dir = '../public_fu/'"
   ]
  },
  {
   "cell_type": "code",
   "execution_count": 2,
   "metadata": {
    "collapsed": true
   },
   "outputs": [],
   "source": [
    "df_test = pd.read_csv(dir + 'evaluation_public.csv')\n",
    "df_train = pd.read_csv(dir + 'train.csv')\n",
    "df_train = df_train.drop(['ENDDATE'],axis=1)\n",
    "EID = df_test.copy()\n",
    "df_entbase = pd.read_csv(dir + '1entbase.csv')"
   ]
  },
  {
   "cell_type": "code",
   "execution_count": 3,
   "metadata": {
    "collapsed": true
   },
   "outputs": [],
   "source": [
    "dir2 ='../data3/'\n",
    "df_entbase2 = pd.read_csv(dir2 + 'entbase2.csv')\n",
    "df_alter_vector = pd.read_csv(dir2 + 'df_alter_vector.csv')\n",
    "df_branch_vector = pd.read_csv(dir2 + 'df_branch_vector.csv')\n",
    "df_invest_vector = pd.read_csv(dir2 + 'df_invest_vector.csv')\n",
    "df_right_vector = pd.read_csv(dir2 + 'df_right_vector.csv')\n",
    "df_project_vector = pd.read_csv(dir2 + 'df_project_vector.csv')\n",
    "df_lawsuit_vector = pd.read_csv(dir2 + 'df_lawsuit_vector.csv')\n",
    "df_breakfaith_vector = pd.read_csv(dir2 + 'df_breakfaith_vector.csv')\n",
    "df_recruit_vector = pd.read_csv(dir2 + 'df_recruit_vector.csv')\n",
    "df_qualification_vector = pd.read_csv(dir2 +'df_qualification_vector.csv')"
   ]
  },
  {
   "cell_type": "code",
   "execution_count": 4,
   "metadata": {
    "collapsed": true
   },
   "outputs": [],
   "source": [
    "df_entbase2['HY_ETYPE'] =  df_entbase2['HY'].astype(str) + df_entbase2['ETYPE'].astype(str)\n",
    "df_entbase2['INUM_FSTINUM_sum'] = df_entbase2['INUM'] + df_entbase2['FSTINUM']"
   ]
  },
  {
   "cell_type": "code",
   "execution_count": 5,
   "metadata": {
    "collapsed": true
   },
   "outputs": [],
   "source": [
    "df_train = pd.merge(df_train,df_entbase2 ,on=['EID'],how='left')\n",
    "df_train = pd.merge(df_train,df_alter_vector,on=['EID'],how='left')\n",
    "df_train = pd.merge(df_train,df_branch_vector,on=['EID'],how='left')\n",
    "df_train = pd.merge(df_train,df_invest_vector,on=['EID'],how='left')\n",
    "df_train = pd.merge(df_train,df_right_vector,on=['EID'],how='left')\n",
    "df_train = pd.merge(df_train,df_project_vector,on=['EID'],how='left')\n",
    "df_train = pd.merge(df_train,df_lawsuit_vector,on=['EID'],how='left')\n",
    "df_train = pd.merge(df_train,df_breakfaith_vector,on=['EID'],how='left')\n",
    "df_train = pd.merge(df_train,df_recruit_vector,on=['EID'],how='left')\n",
    "df_train = pd.merge(df_train,df_qualification_vector,on=['EID'],how='left')\n",
    "\n",
    "df_test = pd.merge(df_test,df_entbase2 ,on=['EID'],how='left')\n",
    "df_test = pd.merge(df_test,df_alter_vector,on=['EID'],how='left')\n",
    "df_test = pd.merge(df_test,df_branch_vector,on=['EID'],how='left')\n",
    "df_test = pd.merge(df_test,df_invest_vector,on=['EID'],how='left')\n",
    "df_test = pd.merge(df_test,df_right_vector,on=['EID'],how='left')\n",
    "df_test = pd.merge(df_test,df_project_vector,on=['EID'],how='left')\n",
    "df_test = pd.merge(df_test,df_lawsuit_vector,on=['EID'],how='left')\n",
    "df_test = pd.merge(df_test,df_breakfaith_vector,on=['EID'],how='left')\n",
    "df_test = pd.merge(df_test,df_recruit_vector,on=['EID'],how='left')\n",
    "df_test = pd.merge(df_test,df_qualification_vector,on=['EID'],how='left')"
   ]
  },
  {
   "cell_type": "code",
   "execution_count": 10,
   "metadata": {},
   "outputs": [
    {
     "data": {
      "text/plain": [
       "1.0     1835\n",
       "2.0      598\n",
       "3.0       34\n",
       "4.0       14\n",
       "5.0        8\n",
       "7.0        6\n",
       "11.0       3\n",
       "6.0        3\n",
       "9.0        3\n",
       "12.0       1\n",
       "22.0       1\n",
       "8.0        1\n",
       "Name: qua_count, dtype: int64"
      ]
     },
     "execution_count": 10,
     "metadata": {},
     "output_type": "execute_result"
    }
   ],
   "source": [
    "df_test['qua_count'].value_counts()"
   ]
  },
  {
   "cell_type": "code",
   "execution_count": 11,
   "metadata": {},
   "outputs": [
    {
     "name": "stdout",
     "output_type": "stream",
     "text": [
      "312\n",
      "Start training...\n",
      "[1]\tvalid_0's auc: 0.616871\n",
      "Training until validation scores don't improve for 15 rounds.\n",
      "[2]\tvalid_0's auc: 0.653671\n",
      "[3]\tvalid_0's auc: 0.660167\n",
      "[4]\tvalid_0's auc: 0.659038\n",
      "[5]\tvalid_0's auc: 0.657565\n",
      "[6]\tvalid_0's auc: 0.661344\n",
      "[7]\tvalid_0's auc: 0.663181\n",
      "[8]\tvalid_0's auc: 0.6637\n",
      "[9]\tvalid_0's auc: 0.663648\n",
      "[10]\tvalid_0's auc: 0.665122\n",
      "[11]\tvalid_0's auc: 0.666044\n",
      "[12]\tvalid_0's auc: 0.666267\n",
      "[13]\tvalid_0's auc: 0.666276\n",
      "[14]\tvalid_0's auc: 0.666394\n",
      "[15]\tvalid_0's auc: 0.667978\n",
      "[16]\tvalid_0's auc: 0.668229\n",
      "[17]\tvalid_0's auc: 0.66881\n",
      "[18]\tvalid_0's auc: 0.670089\n",
      "[19]\tvalid_0's auc: 0.669927\n",
      "[20]\tvalid_0's auc: 0.670297\n",
      "[21]\tvalid_0's auc: 0.670627\n",
      "[22]\tvalid_0's auc: 0.670747\n",
      "[23]\tvalid_0's auc: 0.671284\n",
      "[24]\tvalid_0's auc: 0.671409\n",
      "[25]\tvalid_0's auc: 0.672373\n",
      "[26]\tvalid_0's auc: 0.673118\n",
      "[27]\tvalid_0's auc: 0.673391\n",
      "[28]\tvalid_0's auc: 0.673635\n",
      "[29]\tvalid_0's auc: 0.673767\n",
      "[30]\tvalid_0's auc: 0.674261\n",
      "[31]\tvalid_0's auc: 0.674645\n",
      "[32]\tvalid_0's auc: 0.674632\n",
      "[33]\tvalid_0's auc: 0.674876\n",
      "[34]\tvalid_0's auc: 0.675072\n",
      "[35]\tvalid_0's auc: 0.674929\n",
      "[36]\tvalid_0's auc: 0.674938\n",
      "[37]\tvalid_0's auc: 0.675495\n",
      "[38]\tvalid_0's auc: 0.675575\n",
      "[39]\tvalid_0's auc: 0.675415\n",
      "[40]\tvalid_0's auc: 0.675392\n",
      "[41]\tvalid_0's auc: 0.675508\n",
      "[42]\tvalid_0's auc: 0.675488\n",
      "[43]\tvalid_0's auc: 0.675915\n",
      "[44]\tvalid_0's auc: 0.67615\n",
      "[45]\tvalid_0's auc: 0.676431\n",
      "[46]\tvalid_0's auc: 0.67678\n",
      "[47]\tvalid_0's auc: 0.67692\n",
      "[48]\tvalid_0's auc: 0.67701\n",
      "[49]\tvalid_0's auc: 0.677087\n",
      "[50]\tvalid_0's auc: 0.677031\n",
      "[51]\tvalid_0's auc: 0.67731\n",
      "[52]\tvalid_0's auc: 0.677398\n",
      "[53]\tvalid_0's auc: 0.677451\n",
      "[54]\tvalid_0's auc: 0.677733\n",
      "[55]\tvalid_0's auc: 0.677903\n",
      "[56]\tvalid_0's auc: 0.677898\n",
      "[57]\tvalid_0's auc: 0.67793\n",
      "[58]\tvalid_0's auc: 0.677903\n",
      "[59]\tvalid_0's auc: 0.678136\n",
      "[60]\tvalid_0's auc: 0.678192\n",
      "[61]\tvalid_0's auc: 0.678499\n",
      "[62]\tvalid_0's auc: 0.678661\n",
      "[63]\tvalid_0's auc: 0.678686\n",
      "[64]\tvalid_0's auc: 0.678795\n",
      "[65]\tvalid_0's auc: 0.678722\n",
      "[66]\tvalid_0's auc: 0.678838\n",
      "[67]\tvalid_0's auc: 0.678959\n",
      "[68]\tvalid_0's auc: 0.67902\n",
      "[69]\tvalid_0's auc: 0.679031\n",
      "[70]\tvalid_0's auc: 0.678796\n",
      "[71]\tvalid_0's auc: 0.678786\n",
      "[72]\tvalid_0's auc: 0.678788\n",
      "[73]\tvalid_0's auc: 0.678699\n",
      "[74]\tvalid_0's auc: 0.678608\n",
      "[75]\tvalid_0's auc: 0.678534\n",
      "[76]\tvalid_0's auc: 0.678515\n",
      "[77]\tvalid_0's auc: 0.678517\n",
      "[78]\tvalid_0's auc: 0.678504\n",
      "[79]\tvalid_0's auc: 0.678372\n",
      "[80]\tvalid_0's auc: 0.678768\n",
      "[81]\tvalid_0's auc: 0.678682\n",
      "[82]\tvalid_0's auc: 0.67869\n",
      "[83]\tvalid_0's auc: 0.67874\n",
      "[84]\tvalid_0's auc: 0.678726\n",
      "Early stopping, best iteration is:\n",
      "[69]\tvalid_0's auc: 0.679031\n",
      "Plot metrics during training...\n"
     ]
    },
    {
     "data": {
      "image/png": "[encoded data removed]",
      "text/plain": [
       "<matplotlib.figure.Figure at 0x7f3794dd6f10>"
      ]
     },
     "metadata": {},
     "output_type": "display_data"
    },
    {
     "name": "stdout",
     "output_type": "stream",
     "text": [
      "Plot feature importances...\n"
     ]
    },
    {
     "data": {
      "image/png": "[encoded data removed]",
      "text/plain": [
       "<matplotlib.figure.Figure at 0x7f37e8278a50>"
      ]
     },
     "metadata": {},
     "output_type": "display_data"
    },
    {
     "name": "stdout",
     "output_type": "stream",
     "text": [
      "Start predicting...\n",
      "('predict pos tation', 11574)\n",
      "218247\n"
     ]
    }
   ],
   "source": [
    "test = df_test.fillna(-1)\n",
    "train = df_train.fillna(-1)\n",
    "\n",
    "del train['EID']\n",
    "test_index = test.pop('EID')\n",
    "# 抽样选择数据\n",
    "tmp1 = train[train.TARGET==1]\n",
    "tmp0 = train[train.TARGET==0]\n",
    "x_valid_1 = tmp1.sample(frac=0.3, random_state=70, axis=0)\n",
    "x_train_1 = tmp1.drop(x_valid_1.index.tolist())\n",
    "x_valid_2 = tmp0.sample(frac=0.1, random_state=70, axis=0)\n",
    "x_train_2 = tmp0.drop(x_valid_2.index.tolist())\n",
    "X_train_df = pd.concat([x_train_1,x_train_2],axis=0)\n",
    "\n",
    "y_train = X_train_df.pop('TARGET')\n",
    "X_test_df = pd.concat([x_valid_1,x_valid_2],axis=0)\n",
    "y_test = X_test_df.pop('TARGET')\n",
    "\n",
    "feature_len = X_train_df.shape[1]\n",
    "print(feature_len)\n",
    "\n",
    "X_train = X_train_df.values\n",
    "X_test = X_test_df.values\n",
    "y_train = y_train.values\n",
    "y_test = y_test.values\n",
    "\n",
    "lgb_train = lgb.Dataset(X_train, y_train)\n",
    "lgb_eval = lgb.Dataset(X_test, y_test, reference=lgb_train)\n",
    "\n",
    "params = {\n",
    "    'boosting_type': 'gbdt',\n",
    "    'objective': 'binary',\n",
    "    'metric': {'auc'},\n",
    "    'num_leaves': 128,\n",
    "    'learning_rate': 0.08,\n",
    "    'feature_fraction': 0.8,\n",
    "    'bagging_fraction': 0.8,\n",
    "    'bagging_freq': 10,\n",
    "    'verbose': 0\n",
    "}\n",
    "evals_result = {}\n",
    "print('Start training...')\n",
    "# train\n",
    "gbm = lgb.train(params,\n",
    "                lgb_train,\n",
    "                num_boost_round = 1000,\n",
    "                valid_sets=lgb_eval,\n",
    "                feature_name=['f' + str(i + 1) for i in range(feature_len)],\n",
    "                early_stopping_rounds= 15 ,\n",
    "                evals_result=evals_result)\n",
    "\n",
    "print('Plot metrics during training...')\n",
    "ax = lgb.plot_metric(evals_result, metric='auc')\n",
    "plt.show()\n",
    "\n",
    "print('Plot feature importances...')\n",
    "lgb.plot_importance(gbm,max_num_features=feature_len)\n",
    "plt.show()\n",
    "\n",
    "print('Start predicting...')\n",
    "\n",
    "y_pred = gbm.predict(test.values, num_iteration=gbm.best_iteration)\n",
    "y_pred = np.round(y_pred,5)\n",
    "result = pd.DataFrame({'PROB':list(y_pred),\n",
    "                       })\n",
    "result['FORTARGET'] = result['PROB'] > 0.22\n",
    "result['PROB'] = result['PROB'].astype('str')\n",
    "result['FORTARGET'] = result['FORTARGET'].astype('int')\n",
    "result = pd.concat([test_index,result],axis=1)\n",
    "\n",
    "print('predict pos tation',sum(result['FORTARGET']))\n",
    "\n",
    "result = pd.DataFrame(result).drop_duplicates(['EID'])\n",
    "result[['EID','FORTARGET','PROB']].to_csv('../submit/evaluation_public1130.csv',index=None)\n",
    "print(len(result.EID.unique()))"
   ]
  },
  {
   "cell_type": "code",
   "execution_count": null,
   "metadata": {
    "collapsed": true
   },
   "outputs": [],
   "source": []
  }
 ],
 "metadata": {
  "kernelspec": {
   "display_name": "Python 2",
   "language": "python",
   "name": "python2"
  },
  "language_info": {
   "codemirror_mode": {
    "name": "ipython",
    "version": 2
   },
   "file_extension": ".py",
   "mimetype": "text/x-python",
   "name": "python",
   "nbconvert_exporter": "python",
   "pygments_lexer": "ipython2",
   "version": "2.7.14"
  }
 },
 "nbformat": 4,
 "nbformat_minor": 2
}
